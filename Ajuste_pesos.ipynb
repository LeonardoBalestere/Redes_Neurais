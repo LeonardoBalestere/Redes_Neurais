{
  "cells": [
    {
      "cell_type": "markdown",
      "metadata": {
        "id": "1szpNCUd4v4H"
      },
      "source": [
        "# Exemplo de ajuste sináptico"
      ]
    },
    {
      "cell_type": "code",
      "execution_count": 1,
      "metadata": {
        "id": "nm5x8K12YHVy"
      },
      "outputs": [],
      "source": [
        "from ipywidgets import interact, interactive\n",
        "import torch\n",
        "import matplotlib.pyplot as plt\n",
        "from functools import partial\n",
        "import numpy as np\n",
        "\n",
        "%matplotlib inline\n",
        "\n",
        "plt.rc('figure', dpi=90)\n",
        "\n",
        "def plot_function(f, title=None, min=-1, max=3, color='black', ylim=None):\n",
        "    x = torch.linspace(min,max, 100)[:,None]\n",
        "    if ylim: plt.ylim(ylim)\n",
        "    plt.plot(x, f(x), color)\n",
        "    if title is not None: plt.title(title)"
      ]
    },
    {
      "cell_type": "markdown",
      "metadata": {
        "id": "Ep1X56GAYk4G"
      },
      "source": [
        "Supondo f(x)=x,\n",
        "\n",
        "y = w1.x1 + w2.x2 - b\n",
        "\n",
        "fazendo y=0 e reescrevendo para x2 em termos de x1,\n",
        "\n",
        "x2 = (b - w1.x1)/w2\n"
      ]
    },
    {
      "cell_type": "code",
      "execution_count": 2,
      "metadata": {
        "id": "w7R_Oad1hnAH"
      },
      "outputs": [],
      "source": [
        "def coord(w1,w2,b,x1):\n",
        "  return (b-w1*x1)/w2"
      ]
    },
    {
      "cell_type": "code",
      "execution_count": 3,
      "metadata": {
        "id": "kZF0S2rchdfg"
      },
      "outputs": [],
      "source": [
        "def mk_coord(w1, w2, b):\n",
        "  return partial(coord, w1, w2, b)"
      ]
    },
    {
      "cell_type": "code",
      "execution_count": 4,
      "metadata": {
        "id": "9Ph_54-VdDMl"
      },
      "outputs": [],
      "source": [
        "# 2 classes\n",
        "x1, y1 = [1,2],[2,1]\n",
        "x2, y2 = [0.5, 0],[0.5, 0]"
      ]
    },
    {
      "cell_type": "code",
      "execution_count": 5,
      "metadata": {
        "colab": {
          "base_uri": "https://localhost:8080/",
          "height": 463,
          "referenced_widgets": [
            "521aa5905a554abdb1575919da76f1dc",
            "6912ca7228344314a5b710b358c71fa8",
            "f56c0969b7a349e2bf6d6ebdfe31fdfa",
            "00a4662c799f4ac78c8ce3a81d4bcae6",
            "2eec22c2f5664a56ba32ed852d3fe2d8",
            "1a1348f2f4164a719c37625ce17e2c84",
            "274e3b7db7cc438fb6830691876f77ac",
            "911a8a02725f44a2ae4544b4d2109b55",
            "b67cd6e96cd44cd1afd68f45968a29b8",
            "9c8c609d076748499136447792c61982",
            "04dccd9ac07846eba228802fd2cb5eca",
            "80a8f5b832ab4748a1b87a3fabe16a17",
            "558709b3e660423db9d38e89ea4bf189"
          ]
        },
        "id": "fmfMnQv4m4eM",
        "outputId": "90921ed6-bdb3-490d-f1c2-73bad6f88062"
      },
      "outputs": [
        {
          "data": {
            "application/vnd.jupyter.widget-view+json": {
              "model_id": "53e8941be9ef4e199f5c83bd7427c4af",
              "version_major": 2,
              "version_minor": 0
            },
            "text/plain": [
              "interactive(children=(FloatSlider(value=0.1, description='w1', max=0.30000000000000004, min=-0.1), FloatSlider…"
            ]
          },
          "execution_count": 5,
          "metadata": {},
          "output_type": "execute_result"
        }
      ],
      "source": [
        "def plot_coord(w1, w2, b):\n",
        "    plt.figure(2)\n",
        "    x = np.linspace(0, 3,3)\n",
        "    plt.scatter(x1,y1, color='blue')\n",
        "    plt.scatter(x2,y2,color='red')\n",
        "    plt.plot(coord(w1,w2,b,x),color='black')\n",
        "    plt.show()\n",
        "\n",
        "interactive_plot = interactive(plot_coord, w1=0.1, w2=-0.2, b=0.3)\n",
        "output = interactive_plot.children[-1]\n",
        "output.layout.height = '350px'\n",
        "interactive_plot"
      ]
    },
    {
      "cell_type": "code",
      "execution_count": 6,
      "metadata": {
        "id": "9wNaTaIucKrp"
      },
      "outputs": [
        {
          "data": {
            "application/vnd.jupyter.widget-view+json": {
              "model_id": "1a3003144e804fcda20529d39aa24edd",
              "version_major": 2,
              "version_minor": 0
            },
            "text/plain": [
              "interactive(children=(FloatSlider(value=0.1, description='w1', max=0.30000000000000004, min=-0.1), FloatSlider…"
            ]
          },
          "metadata": {},
          "output_type": "display_data"
        }
      ],
      "source": [
        "# implementação no Colab não atualiza gráfico - cria novo\n",
        "@interact(w1=0.1, w2=-0.2, b=0.3)\n",
        "def plot_coord(w1, w2, b):\n",
        "    plt.scatter(x1,y1, color='blue')\n",
        "    plt.scatter(x2,y2,color='red')\n",
        "    plot_function(mk_coord(w1,w2,b), ylim=(-3,5))"
      ]
    },
    {
      "cell_type": "markdown",
      "metadata": {
        "id": "8rtU1ZvU47mC"
      },
      "source": [
        "# Exemplo clássico com o Perceptron"
      ]
    },
    {
      "cell_type": "code",
      "execution_count": 7,
      "metadata": {
        "id": "A7iXW3FGrnrc"
      },
      "outputs": [],
      "source": [
        "import numpy as np\n",
        "\n",
        "# classe perceptron\n",
        "\n",
        "class Perceptron(object):\n",
        "\n",
        "    def __init__(self, eta=0.01, epocas=50):\n",
        "        self.eta = eta\n",
        "        self.epocas = epocas\n",
        "\n",
        "    def treina(self, X, y):\n",
        "        self.w_ = np.zeros(1 + X.shape[1])\n",
        "        self.erros_ = []\n",
        "\n",
        "        for _ in range(self.epocas):\n",
        "            erros = 0\n",
        "            for xi, target in zip(X, y):\n",
        "                atualiza = self.eta * (target - self.predict(xi))\n",
        "                self.w_[1:] +=  atualiza * xi\n",
        "                self.w_[0] +=  atualiza\n",
        "                erros += int(atualiza != 0.0)\n",
        "            self.erros_.append(erros)\n",
        "        return self\n",
        "\n",
        "    def entrada(self, X):\n",
        "        return np.dot(X, self.w_[1:]) + self.w_[0]\n",
        "\n",
        "    def predict(self, X):\n",
        "        return np.where(self.entrada(X) >= 0.0, 1, 0)"
      ]
    },
    {
      "cell_type": "code",
      "execution_count": 8,
      "metadata": {
        "id": "r6s7TiK3rply"
      },
      "outputs": [],
      "source": [
        "import pandas as pd\n",
        "df = pd.read_csv('https://archive.ics.uci.edu/ml/machine-learning-databases/iris/iris.data', header=None)"
      ]
    },
    {
      "cell_type": "code",
      "execution_count": 9,
      "metadata": {
        "id": "275KUbYQ2AYR"
      },
      "outputs": [
        {
          "data": {
            "text/html": [
              "<div>\n",
              "<style scoped>\n",
              "    .dataframe tbody tr th:only-of-type {\n",
              "        vertical-align: middle;\n",
              "    }\n",
              "\n",
              "    .dataframe tbody tr th {\n",
              "        vertical-align: top;\n",
              "    }\n",
              "\n",
              "    .dataframe thead th {\n",
              "        text-align: right;\n",
              "    }\n",
              "</style>\n",
              "<table border=\"1\" class=\"dataframe\">\n",
              "  <thead>\n",
              "    <tr style=\"text-align: right;\">\n",
              "      <th></th>\n",
              "      <th>0</th>\n",
              "      <th>1</th>\n",
              "      <th>2</th>\n",
              "      <th>3</th>\n",
              "      <th>4</th>\n",
              "    </tr>\n",
              "  </thead>\n",
              "  <tbody>\n",
              "    <tr>\n",
              "      <th>0</th>\n",
              "      <td>5.1</td>\n",
              "      <td>3.5</td>\n",
              "      <td>1.4</td>\n",
              "      <td>0.2</td>\n",
              "      <td>Iris-setosa</td>\n",
              "    </tr>\n",
              "    <tr>\n",
              "      <th>1</th>\n",
              "      <td>4.9</td>\n",
              "      <td>3.0</td>\n",
              "      <td>1.4</td>\n",
              "      <td>0.2</td>\n",
              "      <td>Iris-setosa</td>\n",
              "    </tr>\n",
              "    <tr>\n",
              "      <th>2</th>\n",
              "      <td>4.7</td>\n",
              "      <td>3.2</td>\n",
              "      <td>1.3</td>\n",
              "      <td>0.2</td>\n",
              "      <td>Iris-setosa</td>\n",
              "    </tr>\n",
              "    <tr>\n",
              "      <th>3</th>\n",
              "      <td>4.6</td>\n",
              "      <td>3.1</td>\n",
              "      <td>1.5</td>\n",
              "      <td>0.2</td>\n",
              "      <td>Iris-setosa</td>\n",
              "    </tr>\n",
              "    <tr>\n",
              "      <th>4</th>\n",
              "      <td>5.0</td>\n",
              "      <td>3.6</td>\n",
              "      <td>1.4</td>\n",
              "      <td>0.2</td>\n",
              "      <td>Iris-setosa</td>\n",
              "    </tr>\n",
              "  </tbody>\n",
              "</table>\n",
              "</div>"
            ],
            "text/plain": [
              "     0    1    2    3            4\n",
              "0  5.1  3.5  1.4  0.2  Iris-setosa\n",
              "1  4.9  3.0  1.4  0.2  Iris-setosa\n",
              "2  4.7  3.2  1.3  0.2  Iris-setosa\n",
              "3  4.6  3.1  1.5  0.2  Iris-setosa\n",
              "4  5.0  3.6  1.4  0.2  Iris-setosa"
            ]
          },
          "execution_count": 9,
          "metadata": {},
          "output_type": "execute_result"
        }
      ],
      "source": [
        "df.head()"
      ]
    },
    {
      "cell_type": "code",
      "execution_count": 10,
      "metadata": {
        "id": "bcHQ8Ym_2BFO"
      },
      "outputs": [],
      "source": [
        "# setosa e versicolor\n",
        "y = df.iloc[0:100, 4].values\n",
        "y = np.where(y == 'Iris-setosa', 0, 1)\n",
        "\n",
        "# comps sepal e petal\n",
        "X = df.iloc[0:100, [0,2]].values"
      ]
    },
    {
      "cell_type": "code",
      "execution_count": 11,
      "metadata": {
        "collapsed": true,
        "id": "thfMEmTcsM4E"
      },
      "outputs": [
        {
          "data": {
            "image/png": "[encoded data removed]",
            "text/plain": [
              "<Figure size 576x432 with 1 Axes>"
            ]
          },
          "metadata": {},
          "output_type": "display_data"
        },
        {
          "data": {
            "image/png": "[encoded data removed]",
            "text/plain": [
              "<Figure size 576x432 with 1 Axes>"
            ]
          },
          "metadata": {},
          "output_type": "display_data"
        }
      ],
      "source": [
        "%matplotlib inline\n",
        "import matplotlib.pyplot as plt\n",
        "from mlxtend.plotting import plot_decision_regions\n",
        "\n",
        "rna = Perceptron(epocas=10, eta=0.05)\n",
        "\n",
        "rna.treina(X, y)\n",
        "#print(f'Pesos: { ppn.w_}')\n",
        "plot_decision_regions(X, y, clf=rna)\n",
        "plt.title('Perceptron')\n",
        "plt.xlabel('sepal comp [cm]')\n",
        "plt.ylabel('petal comp [cm]')\n",
        "plt.show()\n",
        "\n",
        "plt.plot(range(1, len(rna.erros_)+1), rna.erros_, marker='o')\n",
        "plt.xlabel('Iterações')\n",
        "plt.ylabel('Erros de classificação')\n",
        "plt.show()"
      ]
    },
    {
      "cell_type": "code",
      "execution_count": null,
      "metadata": {
        "id": "Wxty99Ywsej7"
      },
      "outputs": [],
      "source": [
        "\n"
      ]
    }
  ],
  "metadata": {
    "colab": {
      "provenance": []
    },
    "kernelspec": {
      "display_name": "Python 3",
      "name": "python3"
    },
    "language_info": {
      "codemirror_mode": {
        "name": "ipython",
        "version": 3
      },
      "file_extension": ".py",
      "mimetype": "text/x-python",
      "name": "python",
      "nbconvert_exporter": "python",
      "pygments_lexer": "ipython3",
      "version": "3.11.4"
    },
    "widgets": {
      "application/vnd.jupyter.widget-state+json": {
        "00a4662c799f4ac78c8ce3a81d4bcae6": {
          "model_module": "@jupyter-widgets/controls",
          "model_module_version": "1.5.0",
          "model_name": "FloatSliderModel",
          "state": {
            "_dom_classes": [],
            "_model_module": "@jupyter-widgets/controls",
            "_model_module_version": "1.5.0",
            "_model_name": "FloatSliderModel",
            "_view_count": null,
            "_view_module": "@jupyter-widgets/controls",
            "_view_module_version": "1.5.0",
            "_view_name": "FloatSliderView",
            "continuous_update": true,
            "description": "b",
            "description_tooltip": null,
            "disabled": false,
            "layout": "IPY_MODEL_04dccd9ac07846eba228802fd2cb5eca",
            "max": 0.8999999999999999,
            "min": -0.3,
            "orientation": "horizontal",
            "readout": true,
            "readout_format": ".2f",
            "step": 0.1,
            "style": "IPY_MODEL_80a8f5b832ab4748a1b87a3fabe16a17",
            "value": 0
          }
        },
        "04dccd9ac07846eba228802fd2cb5eca": {
          "model_module": "@jupyter-widgets/base",
          "model_module_version": "1.2.0",
          "model_name": "LayoutModel",
          "state": {
            "_model_module": "@jupyter-widgets/base",
            "_model_module_version": "1.2.0",
            "_model_name": "LayoutModel",
            "_view_count": null,
            "_view_module": "@jupyter-widgets/base",
            "_view_module_version": "1.2.0",
            "_view_name": "LayoutView",
            "align_content": null,
            "align_items": null,
            "align_self": null,
            "border": null,
            "bottom": null,
            "display": null,
            "flex": null,
            "flex_flow": null,
            "grid_area": null,
            "grid_auto_columns": null,
            "grid_auto_flow": null,
            "grid_auto_rows": null,
            "grid_column": null,
            "grid_gap": null,
            "grid_row": null,
            "grid_template_areas": null,
            "grid_template_columns": null,
            "grid_template_rows": null,
            "height": null,
            "justify_content": null,
            "justify_items": null,
            "left": null,
            "margin": null,
            "max_height": null,
            "max_width": null,
            "min_height": null,
            "min_width": null,
            "object_fit": null,
            "object_position": null,
            "order": null,
            "overflow": null,
            "overflow_x": null,
            "overflow_y": null,
            "padding": null,
            "right": null,
            "top": null,
            "visibility": null,
            "width": null
          }
        },
        "1a1348f2f4164a719c37625ce17e2c84": {
          "model_module": "@jupyter-widgets/base",
          "model_module_version": "1.2.0",
          "model_name": "LayoutModel",
          "state": {
            "_model_module": "@jupyter-widgets/base",
            "_model_module_version": "1.2.0",
            "_model_name": "LayoutModel",
            "_view_count": null,
            "_view_module": "@jupyter-widgets/base",
            "_view_module_version": "1.2.0",
            "_view_name": "LayoutView",
            "align_content": null,
            "align_items": null,
            "align_self": null,
            "border": null,
            "bottom": null,
            "display": null,
            "flex": null,
            "flex_flow": null,
            "grid_area": null,
            "grid_auto_columns": null,
            "grid_auto_flow": null,
            "grid_auto_rows": null,
            "grid_column": null,
            "grid_gap": null,
            "grid_row": null,
            "grid_template_areas": null,
            "grid_template_columns": null,
            "grid_template_rows": null,
            "height": null,
            "justify_content": null,
            "justify_items": null,
            "left": null,
            "margin": null,
            "max_height": null,
            "max_width": null,
            "min_height": null,
            "min_width": null,
            "object_fit": null,
            "object_position": null,
            "order": null,
            "overflow": null,
            "overflow_x": null,
            "overflow_y": null,
            "padding": null,
            "right": null,
            "top": null,
            "visibility": null,
            "width": null
          }
        },
        "274e3b7db7cc438fb6830691876f77ac": {
          "model_module": "@jupyter-widgets/base",
          "model_module_version": "1.2.0",
          "model_name": "LayoutModel",
          "state": {
            "_model_module": "@jupyter-widgets/base",
            "_model_module_version": "1.2.0",
            "_model_name": "LayoutModel",
            "_view_count": null,
            "_view_module": "@jupyter-widgets/base",
            "_view_module_version": "1.2.0",
            "_view_name": "LayoutView",
            "align_content": null,
            "align_items": null,
            "align_self": null,
            "border": null,
            "bottom": null,
            "display": null,
            "flex": null,
            "flex_flow": null,
            "grid_area": null,
            "grid_auto_columns": null,
            "grid_auto_flow": null,
            "grid_auto_rows": null,
            "grid_column": null,
            "grid_gap": null,
            "grid_row": null,
            "grid_template_areas": null,
            "grid_template_columns": null,
            "grid_template_rows": null,
            "height": null,
            "justify_content": null,
            "justify_items": null,
            "left": null,
            "margin": null,
            "max_height": null,
            "max_width": null,
            "min_height": null,
            "min_width": null,
            "object_fit": null,
            "object_position": null,
            "order": null,
            "overflow": null,
            "overflow_x": null,
            "overflow_y": null,
            "padding": null,
            "right": null,
            "top": null,
            "visibility": null,
            "width": null
          }
        },
        "2eec22c2f5664a56ba32ed852d3fe2d8": {
          "model_module": "@jupyter-widgets/output",
          "model_module_version": "1.0.0",
          "model_name": "OutputModel",
          "state": {
            "_dom_classes": [],
            "_model_module": "@jupyter-widgets/output",
            "_model_module_version": "1.0.0",
            "_model_name": "OutputModel",
            "_view_count": null,
            "_view_module": "@jupyter-widgets/output",
            "_view_module_version": "1.0.0",
            "_view_name": "OutputView",
            "layout": "IPY_MODEL_558709b3e660423db9d38e89ea4bf189",
            "msg_id": "",
            "outputs": [
              {
                "data": {
                  "image/png": "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\n",
                  "text/plain": "<Figure size 576x432 with 1 Axes>"
                },
                "metadata": {},
                "output_type": "display_data"
              }
            ]
          }
        },
        "521aa5905a554abdb1575919da76f1dc": {
          "model_module": "@jupyter-widgets/controls",
          "model_module_version": "1.5.0",
          "model_name": "VBoxModel",
          "state": {
            "_dom_classes": [
              "widget-interact"
            ],
            "_model_module": "@jupyter-widgets/controls",
            "_model_module_version": "1.5.0",
            "_model_name": "VBoxModel",
            "_view_count": null,
            "_view_module": "@jupyter-widgets/controls",
            "_view_module_version": "1.5.0",
            "_view_name": "VBoxView",
            "box_style": "",
            "children": [
              "IPY_MODEL_6912ca7228344314a5b710b358c71fa8",
              "IPY_MODEL_f56c0969b7a349e2bf6d6ebdfe31fdfa",
              "IPY_MODEL_00a4662c799f4ac78c8ce3a81d4bcae6",
              "IPY_MODEL_2eec22c2f5664a56ba32ed852d3fe2d8"
            ],
            "layout": "IPY_MODEL_1a1348f2f4164a719c37625ce17e2c84"
          }
        },
        "558709b3e660423db9d38e89ea4bf189": {
          "model_module": "@jupyter-widgets/base",
          "model_module_version": "1.2.0",
          "model_name": "LayoutModel",
          "state": {
            "_model_module": "@jupyter-widgets/base",
            "_model_module_version": "1.2.0",
            "_model_name": "LayoutModel",
            "_view_count": null,
            "_view_module": "@jupyter-widgets/base",
            "_view_module_version": "1.2.0",
            "_view_name": "LayoutView",
            "align_content": null,
            "align_items": null,
            "align_self": null,
            "border": null,
            "bottom": null,
            "display": null,
            "flex": null,
            "flex_flow": null,
            "grid_area": null,
            "grid_auto_columns": null,
            "grid_auto_flow": null,
            "grid_auto_rows": null,
            "grid_column": null,
            "grid_gap": null,
            "grid_row": null,
            "grid_template_areas": null,
            "grid_template_columns": null,
            "grid_template_rows": null,
            "height": "350px",
            "justify_content": null,
            "justify_items": null,
            "left": null,
            "margin": null,
            "max_height": null,
            "max_width": null,
            "min_height": null,
            "min_width": null,
            "object_fit": null,
            "object_position": null,
            "order": null,
            "overflow": null,
            "overflow_x": null,
            "overflow_y": null,
            "padding": null,
            "right": null,
            "top": null,
            "visibility": null,
            "width": null
          }
        },
        "6912ca7228344314a5b710b358c71fa8": {
          "model_module": "@jupyter-widgets/controls",
          "model_module_version": "1.5.0",
          "model_name": "FloatSliderModel",
          "state": {
            "_dom_classes": [],
            "_model_module": "@jupyter-widgets/controls",
            "_model_module_version": "1.5.0",
            "_model_name": "FloatSliderModel",
            "_view_count": null,
            "_view_module": "@jupyter-widgets/controls",
            "_view_module_version": "1.5.0",
            "_view_name": "FloatSliderView",
            "continuous_update": true,
            "description": "w1",
            "description_tooltip": null,
            "disabled": false,
            "layout": "IPY_MODEL_274e3b7db7cc438fb6830691876f77ac",
            "max": 0.30000000000000004,
            "min": -0.1,
            "orientation": "horizontal",
            "readout": true,
            "readout_format": ".2f",
            "step": 0.1,
            "style": "IPY_MODEL_911a8a02725f44a2ae4544b4d2109b55",
            "value": 0.1
          }
        },
        "80a8f5b832ab4748a1b87a3fabe16a17": {
          "model_module": "@jupyter-widgets/controls",
          "model_module_version": "1.5.0",
          "model_name": "SliderStyleModel",
          "state": {
            "_model_module": "@jupyter-widgets/controls",
            "_model_module_version": "1.5.0",
            "_model_name": "SliderStyleModel",
            "_view_count": null,
            "_view_module": "@jupyter-widgets/base",
            "_view_module_version": "1.2.0",
            "_view_name": "StyleView",
            "description_width": "",
            "handle_color": null
          }
        },
        "911a8a02725f44a2ae4544b4d2109b55": {
          "model_module": "@jupyter-widgets/controls",
          "model_module_version": "1.5.0",
          "model_name": "SliderStyleModel",
          "state": {
            "_model_module": "@jupyter-widgets/controls",
            "_model_module_version": "1.5.0",
            "_model_name": "SliderStyleModel",
            "_view_count": null,
            "_view_module": "@jupyter-widgets/base",
            "_view_module_version": "1.2.0",
            "_view_name": "StyleView",
            "description_width": "",
            "handle_color": null
          }
        },
        "9c8c609d076748499136447792c61982": {
          "model_module": "@jupyter-widgets/controls",
          "model_module_version": "1.5.0",
          "model_name": "SliderStyleModel",
          "state": {
            "_model_module": "@jupyter-widgets/controls",
            "_model_module_version": "1.5.0",
            "_model_name": "SliderStyleModel",
            "_view_count": null,
            "_view_module": "@jupyter-widgets/base",
            "_view_module_version": "1.2.0",
            "_view_name": "StyleView",
            "description_width": "",
            "handle_color": null
          }
        },
        "b67cd6e96cd44cd1afd68f45968a29b8": {
          "model_module": "@jupyter-widgets/base",
          "model_module_version": "1.2.0",
          "model_name": "LayoutModel",
          "state": {
            "_model_module": "@jupyter-widgets/base",
            "_model_module_version": "1.2.0",
            "_model_name": "LayoutModel",
            "_view_count": null,
            "_view_module": "@jupyter-widgets/base",
            "_view_module_version": "1.2.0",
            "_view_name": "LayoutView",
            "align_content": null,
            "align_items": null,
            "align_self": null,
            "border": null,
            "bottom": null,
            "display": null,
            "flex": null,
            "flex_flow": null,
            "grid_area": null,
            "grid_auto_columns": null,
            "grid_auto_flow": null,
            "grid_auto_rows": null,
            "grid_column": null,
            "grid_gap": null,
            "grid_row": null,
            "grid_template_areas": null,
            "grid_template_columns": null,
            "grid_template_rows": null,
            "height": null,
            "justify_content": null,
            "justify_items": null,
            "left": null,
            "margin": null,
            "max_height": null,
            "max_width": null,
            "min_height": null,
            "min_width": null,
            "object_fit": null,
            "object_position": null,
            "order": null,
            "overflow": null,
            "overflow_x": null,
            "overflow_y": null,
            "padding": null,
            "right": null,
            "top": null,
            "visibility": null,
            "width": null
          }
        },
        "f56c0969b7a349e2bf6d6ebdfe31fdfa": {
          "model_module": "@jupyter-widgets/controls",
          "model_module_version": "1.5.0",
          "model_name": "FloatSliderModel",
          "state": {
            "_dom_classes": [],
            "_model_module": "@jupyter-widgets/controls",
            "_model_module_version": "1.5.0",
            "_model_name": "FloatSliderModel",
            "_view_count": null,
            "_view_module": "@jupyter-widgets/controls",
            "_view_module_version": "1.5.0",
            "_view_name": "FloatSliderView",
            "continuous_update": true,
            "description": "w2",
            "description_tooltip": null,
            "disabled": false,
            "layout": "IPY_MODEL_b67cd6e96cd44cd1afd68f45968a29b8",
            "max": 0.2,
            "min": -0.6000000000000001,
            "orientation": "horizontal",
            "readout": true,
            "readout_format": ".2f",
            "step": 0.1,
            "style": "IPY_MODEL_9c8c609d076748499136447792c61982",
            "value": -0.4
          }
        }
      }
    }
  },
  "nbformat": 4,
  "nbformat_minor": 0
}
